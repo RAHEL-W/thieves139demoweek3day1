{
 "cells": [
  {
   "cell_type": "markdown",
   "metadata": {},
   "source": [
    "# Object-Oriented-Programming (OOP)"
   ]
  },
  {
   "cell_type": "markdown",
   "metadata": {},
   "source": [
    "## Tasks Today:\n",
    "\n",
    "   \n",
    "\n",
    "1) <b>Creating a Class (Initializing/Declaring)</b> <br>\n",
    "2) <b>Using a Class (Instantiating)</b> <br>\n",
    " &nbsp;&nbsp;&nbsp;&nbsp; a) Creating One Instance <br>\n",
    " &nbsp;&nbsp;&nbsp;&nbsp; b) Creating Multiple Instances <br>\n",
    " &nbsp;&nbsp;&nbsp;&nbsp; c) In-Class Exercise #1 - Create a Class 'Car' and instantiate three different makes of cars <br>\n",
    "3) <b>The \\__init\\__() Method</b> <br>\n",
    " &nbsp;&nbsp;&nbsp;&nbsp; a) The 'self' Attribute <br>\n",
    "4) <b>Class Attributes</b> <br>\n",
    " &nbsp;&nbsp;&nbsp;&nbsp; a) Initializing Attributes <br>\n",
    " &nbsp;&nbsp;&nbsp;&nbsp; b) Setting an Attribute Outside of the \\__init\\__() Method <br>\n",
    " &nbsp;&nbsp;&nbsp;&nbsp; c) Setting Defaults for Attributes <br>\n",
    " &nbsp;&nbsp;&nbsp;&nbsp; d) Accessing Class Attributes <br>\n",
    " &nbsp;&nbsp;&nbsp;&nbsp; e) Changing Class Attributes <br>\n",
    " &nbsp;&nbsp;&nbsp;&nbsp; f) In-Class Exercise #2 - Add a color and wheels attribute to your 'Car' class <br>\n",
    "5) <b>Class Methods</b> <br>\n",
    " &nbsp;&nbsp;&nbsp;&nbsp; a) Creating <br>\n",
    " &nbsp;&nbsp;&nbsp;&nbsp; b) Calling <br>\n",
    " &nbsp;&nbsp;&nbsp;&nbsp; c) Modifying an Attribute's Value Through a Method <br>\n",
    " &nbsp;&nbsp;&nbsp;&nbsp; d) Incrementing an Attribute's Value Through a Method <br>\n",
    " &nbsp;&nbsp;&nbsp;&nbsp; e) In-Class Exercise #3 - Add a method that prints the cars color and wheel number, then call them <br>\n",
    "6) <b>Inheritance</b> <br>\n",
    " &nbsp;&nbsp;&nbsp;&nbsp; a) Syntax for Inheriting from a Parent Class <br>\n",
    " &nbsp;&nbsp;&nbsp;&nbsp; b) The \\__init\\__() Method for a Child Class (super()) <br>\n",
    " &nbsp;&nbsp;&nbsp;&nbsp; c) Defining Attributes and Methods for the Child Class <br>\n",
    " &nbsp;&nbsp;&nbsp;&nbsp; d) Method Overriding <br>\n",
    " &nbsp;&nbsp;&nbsp;&nbsp; e) In-Class Exercise #4 - Create a class 'Ford' that inherits from 'Car' class and initialize it as a Blue Ford Explorer with 4 wheels using the super() method <br>\n",
    "7) <b>Classes as Attributes</b> <br>\n",
    "8) <b>Exercises</b> <br>\n",
    " &nbsp;&nbsp;&nbsp;&nbsp; a) Exercise #1 - Turn the shopping cart program from yesterday into an object-oriented program <br>"
   ]
  },
  {
   "cell_type": "markdown",
   "metadata": {},
   "source": [
    "## Creating a Class (Initializing/Declaring)\n",
    "<p>When creating a class, function, or even a variable you are initializing that object. Initializing and Declaring occur at the same time in Python, whereas in lower level languages you have to declare an object before initializing it. This is the first step in the process of using a class.</p>"
   ]
  },
  {
   "cell_type": "code",
   "execution_count": 27,
   "metadata": {},
   "outputs": [],
   "source": [
    "class Race:\n",
    "    ayes = 2\n",
    "    lag = 'sdfgh'\n",
    "    "
   ]
  },
  {
   "cell_type": "markdown",
   "metadata": {},
   "source": [
    "## Using a Class (Instantiating)\n",
    "<p>The process of creating a class is called <i>Instantiating</i>. Each time you create a variable of that type of class, it is referred to as an <i>Instance</i> of that class. This is the second step in the process of using a class.</p>"
   ]
  },
  {
   "cell_type": "markdown",
   "metadata": {},
   "source": [
    "##### Creating One Instance"
   ]
  },
  {
   "cell_type": "code",
   "execution_count": 53,
   "metadata": {},
   "outputs": [
    {
     "name": "stdout",
     "output_type": "stream",
     "text": [
      "sdfgh\n"
     ]
    }
   ],
   "source": [
    "class Race:\n",
    "    ayes = 2\n",
    "    lag = 'sdfgh'\n",
    "\n",
    "black = Race()\n",
    "\n",
    "    \n",
    "\n",
    "print(black.lag)"
   ]
  },
  {
   "cell_type": "markdown",
   "metadata": {},
   "source": [
    "##### Creating Multiple Instances"
   ]
  },
  {
   "cell_type": "code",
   "execution_count": 54,
   "metadata": {},
   "outputs": [
    {
     "name": "stdout",
     "output_type": "stream",
     "text": [
      "sdfgh\n"
     ]
    }
   ],
   "source": [
    "white = Race()\n",
    "asei = Race()\n",
    "indea = Race() \n",
    "\n",
    "print(asei.lag)"
   ]
  },
  {
   "cell_type": "markdown",
   "metadata": {},
   "source": [
    "##### In-Class Exercise #1 - Create a Class 'Car' and Instantiate three different makes of cars"
   ]
  },
  {
   "cell_type": "code",
   "execution_count": 55,
   "metadata": {},
   "outputs": [],
   "source": [
    "class Car():\n",
    "    tesla = Car()\n",
    "    ford = Car()\n",
    "    nissan = Car() "
   ]
  },
  {
   "cell_type": "markdown",
   "metadata": {},
   "source": [
    "## The \\__init\\__() Method <br>\n",
    "<p>This method is used in almost every created class, and called only once upon the creation of the class instance. This method will initialize all variables needed for the object.</p>"
   ]
  },
  {
   "cell_type": "code",
   "execution_count": 60,
   "metadata": {},
   "outputs": [
    {
     "name": "stdout",
     "output_type": "stream",
     "text": [
      "4\n"
     ]
    }
   ],
   "source": [
    "class Ford ():\n",
    "    wheels = 4\n",
    "    def __init__(self, year, color, engine):\n",
    "       self.year = year \n",
    "       self.color = color\n",
    "       self.engine = engine\n",
    "fusion = Ford('2017', 'white', 'v4')\n",
    "print(fusion.wheels)\n",
    "\n",
    "      "
   ]
  },
  {
   "cell_type": "markdown",
   "metadata": {},
   "source": [
    "##### The 'self' Attribute <br>\n",
    "<p>This attribute is required to keep track of specific instance's attributes. Without the self attribute, the program would not know how to reference or keep track of an instance's attributes.</p>"
   ]
  },
  {
   "cell_type": "code",
   "execution_count": null,
   "metadata": {},
   "outputs": [],
   "source": [
    "# see above"
   ]
  },
  {
   "cell_type": "markdown",
   "metadata": {},
   "source": [
    "## Class Attributes <br>\n",
    "<p>While variables are inside of a class, they are referred to as attributes and not variables. When someone says 'attribute' you know they're speaking about a class. Attributes can be initialized through the init method, or outside of it.</p>"
   ]
  },
  {
   "cell_type": "markdown",
   "metadata": {},
   "source": [
    "##### Initializing Attributes"
   ]
  },
  {
   "cell_type": "code",
   "execution_count": 61,
   "metadata": {},
   "outputs": [
    {
     "name": "stdout",
     "output_type": "stream",
     "text": [
      "4\n"
     ]
    }
   ],
   "source": [
    "# see above\n",
    "print(fusion.wheels)"
   ]
  },
  {
   "cell_type": "markdown",
   "metadata": {},
   "source": [
    "##### Accessing Class Attributes"
   ]
  },
  {
   "cell_type": "code",
   "execution_count": 62,
   "metadata": {
    "scrolled": true
   },
   "outputs": [
    {
     "name": "stdout",
     "output_type": "stream",
     "text": [
      "4\n"
     ]
    }
   ],
   "source": [
    "# See Above\n",
    "print(fusion.wheels)"
   ]
  },
  {
   "cell_type": "markdown",
   "metadata": {},
   "source": [
    "##### Setting Defaults for Attributes"
   ]
  },
  {
   "cell_type": "code",
   "execution_count": 76,
   "metadata": {},
   "outputs": [
    {
     "name": "stdout",
     "output_type": "stream",
     "text": [
      "4\n",
      "6\n"
     ]
    }
   ],
   "source": [
    "\n",
    "class Car():\n",
    "\n",
    "    def __init__(self, year, color, engine,  wheals=4):\n",
    "        self.year = year\n",
    "        self.color = color\n",
    "        self.engine = engine\n",
    "        self.wheals = wheals\n",
    "fusion = Car('2017', 'white', 'v4')\n",
    "tow_truck= Car('2017', 'white', 'v4', 6) \n",
    "\n",
    "print(fusion.wheals)\n",
    "print(tow_truck.wheals)"
   ]
  },
  {
   "attachments": {},
   "cell_type": "markdown",
   "metadata": {},
   "source": [
    "##### Changing Instance Attributes <br>\n",
    "<p>Keep in mind there are global class attributes and then there are attributes only available to each class instance which won't effect other classes.</p>"
   ]
  },
  {
   "cell_type": "code",
   "execution_count": 77,
   "metadata": {},
   "outputs": [
    {
     "name": "stdout",
     "output_type": "stream",
     "text": [
      "white\n",
      "green\n"
     ]
    }
   ],
   "source": [
    "# see above\n",
    "\n",
    "class Car():\n",
    "    \n",
    "    def __init__(self, year, color, engine,):\n",
    "         self.year = year\n",
    "         self.color = color\n",
    "fusion = Car('2017', 'white', 'v4')         \n",
    "print(fusion.color)\n",
    "fusion.color = 'green'\n",
    "print(fusion.color)"
   ]
  },
  {
   "cell_type": "markdown",
   "metadata": {},
   "source": [
    "##### In-Class Exercise #2 - Add a doors and seats attribute to your 'Car' class then print out two different instances with different doors and seats"
   ]
  },
  {
   "cell_type": "code",
   "execution_count": 85,
   "metadata": {},
   "outputs": [
    {
     "name": "stdout",
     "output_type": "stream",
     "text": [
      "7 4\n",
      "5 2\n"
     ]
    }
   ],
   "source": [
    "class  Car():\n",
    "       \n",
    "    \n",
    "        def __init__(self, year, color, engin, Doors= 4, Seats = 7):\n",
    "          \n",
    "          self.year = year\n",
    "          self.color = color\n",
    "          self.engin = engin\n",
    "          self.Doors = Doors\n",
    "          self.Seats = Seats\n",
    "\n",
    "tesla = Car('2023', 'black','xcv',)\n",
    "GMC = Car('2020', 'gray',  'sdrfd', 2, 5)\n",
    "\n",
    "print(tesla.Seats, tesla.Doors)\n",
    "print(GMC.Seats, GMC.Doors)"
   ]
  },
  {
   "cell_type": "markdown",
   "metadata": {},
   "source": [
    "## Class Methods <br>\n",
    "<p>While inside of a class, functions are referred to as 'methods'. If you hear someone mention methods, they're speaking about classes. Methods are essentially functions, but only callable on the instances of a class.</p>"
   ]
  },
  {
   "cell_type": "markdown",
   "metadata": {},
   "source": [
    "##### Creating"
   ]
  },
  {
   "cell_type": "code",
   "execution_count": 88,
   "metadata": {},
   "outputs": [
    {
     "name": "stdout",
     "output_type": "stream",
     "text": [
      "i have2023 year blackvihaicel\n",
      "i have2020 year grayvihaicel\n"
     ]
    }
   ],
   "source": [
    "\n",
    "class Car():\n",
    "\n",
    "    def __init__(self, year, color, engine,  wheals=4):\n",
    "        self.year = year\n",
    "        self.color = color\n",
    "        self.engine = engine\n",
    "        self.wheals = wheals\n",
    "    def info(self):\n",
    "        print(f\"i have{self.year} year {self.color}vihaicel\")   \n",
    "tesla = Car('2023', 'black','xcv')\n",
    "GMC = Car('2020', 'gray',  'sdrfd')\n",
    "\n",
    "\n",
    "tesla.info()\n",
    "GMC.info()"
   ]
  },
  {
   "cell_type": "markdown",
   "metadata": {},
   "source": [
    "##### Calling"
   ]
  },
  {
   "cell_type": "code",
   "execution_count": null,
   "metadata": {},
   "outputs": [],
   "source": [
    "# See Above\n",
    "tesla.info()\n",
    "GMC.info()"
   ]
  },
  {
   "cell_type": "markdown",
   "metadata": {},
   "source": [
    "##### Modifying an Attribute's Value Through a Method"
   ]
  },
  {
   "cell_type": "code",
   "execution_count": 92,
   "metadata": {},
   "outputs": [
    {
     "name": "stdout",
     "output_type": "stream",
     "text": [
      "i have2023 year blackvihaicel\n",
      "i have2020 year grayvihaicel\n",
      "you  car color  to  green\n"
     ]
    },
    {
     "data": {
      "text/plain": [
       "'green'"
      ]
     },
     "execution_count": 92,
     "metadata": {},
     "output_type": "execute_result"
    }
   ],
   "source": [
    "# see above\n",
    "\n",
    "\n",
    "class Car():\n",
    "\n",
    "    def __init__(self, year, color, engine,  wheals=4):\n",
    "        self.year = year\n",
    "        self.color = color\n",
    "        self.engine = engine\n",
    "        self.wheals = wheals\n",
    "    def info(self):\n",
    "        print(f\"i have{self.year} year {self.color}vihaicel\")  \n",
    "    def paint_job (self, new_color):\n",
    "        self.color = new_color \n",
    "        print(f\"you  car color  to  {new_color}\")    \n",
    "tesla = Car('2023', 'black','xcv')\n",
    "GMC = Car('2020', 'gray',  'sdrfd')\n",
    "\n",
    "\n",
    "tesla.info()\n",
    "GMC.info()\n",
    "tesla.paint_job('green')\n",
    "tesla.color"
   ]
  },
  {
   "cell_type": "markdown",
   "metadata": {},
   "source": [
    "##### Incrementing an Attribute's Value Through a Method"
   ]
  },
  {
   "cell_type": "code",
   "execution_count": 94,
   "metadata": {},
   "outputs": [
    {
     "name": "stdout",
     "output_type": "stream",
     "text": [
      "i have2023 year blackvihaicel\n",
      "i have2020 year grayvihaicel\n",
      "you  car color  to  green\n"
     ]
    },
    {
     "data": {
      "text/plain": [
       "6"
      ]
     },
     "execution_count": 94,
     "metadata": {},
     "output_type": "execute_result"
    }
   ],
   "source": [
    "# see above\n",
    "class Car():\n",
    "\n",
    "    def __init__(self, year, color, engine,  wheals=4):\n",
    "        self.year = year\n",
    "        self.color = color\n",
    "        self.engine = engine\n",
    "        self.wheals = wheals\n",
    "    def info(self):\n",
    "        print(f\"i have{self.year} year {self.color}vihaicel\")  \n",
    "    def paint_job (self, new_color):\n",
    "        self.color = new_color \n",
    "        print(f\"you  car color  to  {new_color}\")\n",
    "    def get_wide(self):\n",
    "      self.wheals += 2      \n",
    "tesla = Car('2023', 'black','xcv')\n",
    "GMC = Car('2020', 'gray',  'sdrfd')\n",
    "\n",
    "\n",
    "tesla.info()\n",
    "GMC.info()\n",
    "tesla.paint_job('green')\n",
    "tesla.get_wide()\n",
    "tesla.color\n",
    "tesla.wheals\n"
   ]
  },
  {
   "cell_type": "markdown",
   "metadata": {},
   "source": [
    "## Inheritance <br>\n",
    "<p>You can create a child-parent relationship between two classes by using inheritance. What this allows you to do is have overriding methods, but also inherit traits from the parent class. Think of it as an actual parent and child, the child will inherit the parent's genes, as will the classes in OOP</p>"
   ]
  },
  {
   "cell_type": "markdown",
   "metadata": {},
   "source": [
    "##### Syntax for Inheriting from a Parent Class"
   ]
  },
  {
   "cell_type": "code",
   "execution_count": 21,
   "metadata": {},
   "outputs": [
    {
     "ename": "AttributeError",
     "evalue": "'User' object has no attribute 'info'",
     "output_type": "error",
     "traceback": [
      "\u001b[0;31m---------------------------------------------------------------------------\u001b[0m",
      "\u001b[0;31mAttributeError\u001b[0m                            Traceback (most recent call last)",
      "Cell \u001b[0;32mIn[21], line 14\u001b[0m\n\u001b[1;32m     12\u001b[0m     admin \u001b[38;5;241m=\u001b[39m \u001b[38;5;28;01mTrue\u001b[39;00m            \n\u001b[1;32m     13\u001b[0m ch \u001b[38;5;241m=\u001b[39m User(\u001b[38;5;124m'\u001b[39m\u001b[38;5;124mch\u001b[39m\u001b[38;5;124m'\u001b[39m, \u001b[38;5;124m'\u001b[39m\u001b[38;5;124mpa\u001b[39m\u001b[38;5;124m'\u001b[39m, \u001b[38;5;241m65\u001b[39m)            \n\u001b[0;32m---> 14\u001b[0m ch\u001b[38;5;241m.\u001b[39minfo()\n\u001b[1;32m     15\u001b[0m ch\u001b[38;5;241m.\u001b[39mpost(\u001b[38;5;124m'\u001b[39m\u001b[38;5;124mdfghjkl\u001b[39m\u001b[38;5;124m'\u001b[39m)\n",
      "\u001b[0;31mAttributeError\u001b[0m: 'User' object has no attribute 'info'"
     ]
    }
   ],
   "source": []
  },
  {
   "cell_type": "markdown",
   "metadata": {},
   "source": [
    "##### The \\__init\\__() Method for a Child Class - super()"
   ]
  },
  {
   "cell_type": "code",
   "execution_count": null,
   "metadata": {
    "scrolled": true
   },
   "outputs": [],
   "source": [
    "# see above\n",
    "is_running = True\n",
    "\n",
    "\n",
    "\n",
    "while is_running:\n",
    "    print(\"Enter add, remove, show or quit\")\n",
    "    selection = input()\n",
    "    if selection == 'quit':\n",
    "        is_running = False\n",
    "\n",
    "    if  selection == 'add':\n",
    "        print('what items do you want add')\n",
    "    if selection == 'remove':\n",
    "        print('type remove if you want to remove items')\n",
    "    if selection == 'show':\n",
    "       print('hre are your add') "
   ]
  },
  {
   "cell_type": "markdown",
   "metadata": {},
   "source": [
    "##### Defining Attributes and Methods for the Child Class"
   ]
  },
  {
   "cell_type": "code",
   "execution_count": 3,
   "metadata": {},
   "outputs": [
    {
     "name": "stdout",
     "output_type": "stream",
     "text": [
      "dfgh\n"
     ]
    }
   ],
   "source": [
    "# See Above\n",
    "name = input('ehhjhj')\n",
    "print(name)"
   ]
  },
  {
   "cell_type": "markdown",
   "metadata": {},
   "source": [
    "# Exercises"
   ]
  },
  {
   "cell_type": "markdown",
   "metadata": {},
   "source": [
    "### Exercise 1 - Turn the shopping cart program from yesterday into an object-oriented program\n",
    "\n",
    "The comments in the cell below are there as a guide for thinking about the problem. However, if you feel a different way is best for you and your own thought process, please do what feels best for you by all means."
   ]
  },
  {
   "cell_type": "code",
   "execution_count": 3,
   "metadata": {},
   "outputs": [
    {
     "ename": "KeyError",
     "evalue": "'show'",
     "output_type": "error",
     "traceback": [
      "\u001b[0;31m---------------------------------------------------------------------------\u001b[0m",
      "\u001b[0;31mKeyError\u001b[0m                                  Traceback (most recent call last)",
      "Cell \u001b[0;32mIn[3], line 40\u001b[0m\n\u001b[1;32m     38\u001b[0m result \u001b[38;5;241m=\u001b[39m Cart()\n\u001b[1;32m     39\u001b[0m result\u001b[38;5;241m.\u001b[39madd()\n\u001b[0;32m---> 40\u001b[0m result\u001b[38;5;241m.\u001b[39mremove()\n\u001b[1;32m     41\u001b[0m result\u001b[38;5;241m.\u001b[39mshow()\n\u001b[1;32m     42\u001b[0m \u001b[38;5;28mprint\u001b[39m(result)\n",
      "Cell \u001b[0;32mIn[3], line 26\u001b[0m, in \u001b[0;36mCart.remove\u001b[0;34m(self)\u001b[0m\n\u001b[1;32m     24\u001b[0m     \u001b[38;5;28;01mdel\u001b[39;00m \u001b[38;5;28mself\u001b[39m\u001b[38;5;241m.\u001b[39mcart[remove_item]\n\u001b[1;32m     25\u001b[0m \u001b[38;5;28;01melse\u001b[39;00m:\n\u001b[0;32m---> 26\u001b[0m     \u001b[38;5;28mself\u001b[39m\u001b[38;5;241m.\u001b[39mcart[remove_item] \u001b[38;5;241m-\u001b[39m\u001b[38;5;241m=\u001b[39m \u001b[38;5;28mint\u001b[39m(remove_qunt)\n",
      "\u001b[0;31mKeyError\u001b[0m: 'show'"
     ]
    }
   ],
   "source": [
    "# Create a class called cart that retains items and has methods to add, remove, and show\n",
    "\n",
    "\n",
    "class Cart():\n",
    "\n",
    "    # is_running = True  \n",
    "     \n",
    "    # while is_running:\n",
    "       \n",
    "     def __init__(self):\n",
    "        self.cart = {}\n",
    "\n",
    "     def add(self):\n",
    "        item = input('you want add something, ') \n",
    "        qunt = int(input('how many'))\n",
    "        if item in self.cart:\n",
    "            self.cart[item] += qunt\n",
    "        else:\n",
    "            self.cart[item] = qunt   \n",
    "     def remove(self):\n",
    "        remove_item = input('do you want remove item? ')  \n",
    "        remove_qunt =  input('how mony do you want remove? type all if you want remove this item')\n",
    "        if remove_qunt == 'all':\n",
    "            del self.cart[remove_item]\n",
    "        else:\n",
    "            self.cart[remove_item] -= int(remove_qunt)\n",
    "     def show(self):\n",
    "        show_cart = input('do you want see you cart? type show if you want see it')\n",
    "        if show_cart == 'show':\n",
    "            for key, value  in self.cart.items():\n",
    "                print(f\"you have {value}, {key} left in your cart\")                   \n",
    "    #  if item == 'quit':\n",
    "    #     is_running = False                \n",
    "\n",
    "\n",
    "\n",
    "\n",
    "result = Cart()\n",
    "result.add()\n",
    "result.remove()\n",
    "result.show()\n",
    "print(result)\n",
    "\n",
    "\n",
    "\n",
    "\n",
    "\n",
    "\n",
    "\n",
    "\n",
    "             \n",
    "\n",
    "\n",
    "\n",
    "          \n",
    "\n",
    "\n",
    "\n",
    "\n",
    "\n",
    "\n",
    "\n",
    "        \n",
    "        \n",
    "\n",
    "\n",
    "\n",
    "\n"
   ]
  },
  {
   "cell_type": "markdown",
   "metadata": {},
   "source": [
    "### Exercise 2 - Write a Python class which has two methods get_String and print_String. get_String accept a string from the user and print_String print the string in upper case"
   ]
  },
  {
   "cell_type": "code",
   "execution_count": 1,
   "metadata": {},
   "outputs": [
    {
     "name": "stdout",
     "output_type": "stream",
     "text": [
      "your name is RAHEL\n"
     ]
    }
   ],
   "source": [
    "class My_string:\n",
    "\n",
    "    def get_string(self, name  = ''):\n",
    "        name = input('what\\'s you name')\n",
    "        self.name = name\n",
    "        return \n",
    "    def print_string(self):\n",
    "         \n",
    "        print(f'your name is {self.name.upper()}')\n",
    "\n",
    "result = My_string()\n",
    "result.get_string()\n",
    "result.print_string()\n",
    "\n",
    "\n",
    "\n"
   ]
  },
  {
   "cell_type": "code",
   "execution_count": 91,
   "metadata": {},
   "outputs": [
    {
     "name": "stdout",
     "output_type": "stream",
     "text": [
      "24\n",
      "25\n",
      "{'f_name': 'rahel', 'age': 25, 'gender': 'women', 'my_name': 'elsabeth (eyaya)'}\n"
     ]
    }
   ],
   "source": [
    "names ={\n",
    "    'f_name': 'rahel',\n",
    "    'age' : 23,\n",
    "    'gender' : 'women',\n",
    "    'l_name' : 'wonde',\n",
    "}\n",
    "\n",
    "\n",
    "#     print(f'{name}   {names[name]}')\n",
    "\n",
    "\n",
    "\n",
    "\n",
    "\n",
    "\n",
    "\n",
    "\n",
    "\n",
    "#   del names['l_name']\n",
    "\n",
    "# info = names.copy()\n",
    "\n",
    "names.popitem()\n",
    "# names['age'] =24\n",
    "# names['m_name'] = 'assefa'\n",
    "\n",
    "# print(names['age'])\n",
    "# print(names)\n",
    "# print(names['m_name'])\n",
    "# print(info)\n",
    "names['my_name'] ='elsabeth (eyaya)'\n",
    "names['m_name'] = 'assefa'\n",
    "# keys = []\n",
    "# for kays, values in names.items():\n",
    "# #    print(f'{name}   {names[name]}')\n",
    "#     print(values)\n",
    "#     keys = kays\n",
    "#     print(keys)\n",
    "# values = names.values()\n",
    "# k = names.keys()\n",
    "# print(k)\n",
    "# print(values)\n",
    "names.update({'age' : 24}) \n",
    "print(names['age'])\n",
    "names['age']= 25\n",
    "print(names['age'])\n",
    "names.popitem()\n",
    "print(names)"
   ]
  },
  {
   "cell_type": "code",
   "execution_count": 93,
   "metadata": {},
   "outputs": [
    {
     "name": "stdout",
     "output_type": "stream",
     "text": [
      "{'f_name': 'rahel', 'gender': 'women', 'my_name': 'elsabeth (eyaya)', 'l_name': 'wonde'}\n"
     ]
    }
   ],
   "source": [
    "names ={\n",
    "    'f_name': 'rahel',\n",
    "    'age' : 23,\n",
    "    'gender' : 'women',\n",
    "    'my_name' : 'elsabeth (eyaya)',\n",
    "    'l_name' : 'wonde',\n",
    "}\n",
    "names.pop('age')\n",
    "print(names)"
   ]
  },
  {
   "cell_type": "code",
   "execution_count": 122,
   "metadata": {},
   "outputs": [
    {
     "name": "stdout",
     "output_type": "stream",
     "text": [
      "my ~> f_name  is ~> rahel\n",
      "my ~> age  is ~> 23\n",
      "my ~> gender  is ~> women\n",
      "my ~> my_name  is ~> elsabeth (eyaya)\n",
      "my ~> l_name  is ~> wonde\n"
     ]
    }
   ],
   "source": [
    "names ={\n",
    "    'f_name': 'rahel',\n",
    "    'age' : 23,\n",
    "    'gender' : 'women',\n",
    "    'my_name' : 'elsabeth (eyaya)',\n",
    "    'l_name' : 'wonde',\n",
    "}\n",
    "\n",
    "def info(names):\n",
    "  for keys, values in names.items():\n",
    "   print(f'my ~> {keys}  is ~> {values}')\n",
    "  return \n",
    "info(names) \n",
    "\n",
    "  "
   ]
  },
  {
   "cell_type": "code",
   "execution_count": 108,
   "metadata": {},
   "outputs": [
    {
     "name": "stdout",
     "output_type": "stream",
     "text": [
      "my f_name, is rahel\n",
      "my age, is 23\n",
      "my gender, is women\n",
      "my my_name, is elsabeth (eyaya)\n",
      "my l_name, is wonde\n"
     ]
    }
   ],
   "source": [
    "names ={\n",
    "    'f_name': 'rahel',\n",
    "    'age' : 23,\n",
    "    'gender' : 'women',\n",
    "    'my_name' : 'elsabeth (eyaya)',\n",
    "    'l_name' : 'wonde',\n",
    "}\n",
    "for lets_see_what_its_gone_be in names:\n",
    "    # print(lets_see_what_its_gone_be)\n",
    "    # print(names[lets_see_what_its_gone_be])\n",
    "    print(f'my {lets_see_what_its_gone_be}, is {names[lets_see_what_its_gone_be]}')"
   ]
  },
  {
   "cell_type": "code",
   "execution_count": 106,
   "metadata": {},
   "outputs": [
    {
     "name": "stdout",
     "output_type": "stream",
     "text": [
      "rahel\n",
      "23\n",
      "women\n",
      "elsabeth (eyaya)\n",
      "wonde\n"
     ]
    }
   ],
   "source": [
    "names ={\n",
    "    'f_name': 'rahel',\n",
    "    'age' : 23,\n",
    "    'gender' : 'women',\n",
    "    'my_name' : 'elsabeth (eyaya)',\n",
    "    'l_name' : 'wonde',\n",
    "}\n",
    "\n",
    "for lets_see_what_its_gone_be in names:\n",
    "    print(names[lets_see_what_its_gone_be])"
   ]
  },
  {
   "cell_type": "code",
   "execution_count": 97,
   "metadata": {},
   "outputs": [
    {
     "name": "stdout",
     "output_type": "stream",
     "text": [
      "rahel\n",
      "23\n",
      "women\n",
      "elsabeth (eyaya)\n",
      "wonde\n"
     ]
    }
   ],
   "source": [
    "for val in names.values():\n",
    "    print(val)"
   ]
  },
  {
   "cell_type": "code",
   "execution_count": 128,
   "metadata": {},
   "outputs": [
    {
     "name": "stdout",
     "output_type": "stream",
     "text": [
      "[('age', 23), ('f_name', 'rahel'), ('gender', 'women'), ('l_name', 'wonde'), ('my_name', 'elsabeth (eyaya)')]\n"
     ]
    }
   ],
   "source": [
    "print(sorted(names.items()))"
   ]
  },
  {
   "cell_type": "code",
   "execution_count": 163,
   "metadata": {},
   "outputs": [
    {
     "name": "stdout",
     "output_type": "stream",
     "text": [
      "women\n",
      "[{'f_name': 'rahel'}, {'gender': 'women'}, {'my_name': 'elsabeth (eyaya)'}, {'l_name': 'wonde'}, 4, 7, 'dfgv']\n",
      "7\n",
      "7\n"
     ]
    }
   ],
   "source": [
    "names =[\n",
    "    {'f_name': 'rahel'},\n",
    "    {'age' : 23},\n",
    "    {'gender' : 'women'},\n",
    "    {'my_name' : 'elsabeth (eyaya)'},\n",
    "    {'l_name' : 'wonde'},4,7,'dfgv'\n",
    "   \n",
    "]\n",
    "print(names[2]['gender'])\n",
    "names.remove(names[1])\n",
    "print(names)\n",
    "print(len(names))\n",
    "print(names[5])\n",
    "\n",
    "\n"
   ]
  },
  {
   "cell_type": "code",
   "execution_count": 164,
   "metadata": {},
   "outputs": [
    {
     "name": "stdout",
     "output_type": "stream",
     "text": [
      "[{'f_name': 'rahel'}, {'age': 23}, {'gender': 'women'}, {'my_name': 'elsabeth (eyaya)'}, {'l_name': 'wonde'}, 4, 7, 'dfgv']\n",
      "8\n",
      "4\n"
     ]
    }
   ],
   "source": [
    "names =[\n",
    "    {'f_name': 'rahel'},\n",
    "    {'age' : 23},\n",
    "    {'gender' : 'women'},\n",
    "    {'my_name' : 'elsabeth (eyaya)'},\n",
    "    {'l_name' : 'wonde'},4,7,'dfgv'\n",
    "    \n",
    "]\n",
    "\n",
    "# index =  names.index(7)\n",
    "print(names)\n",
    "print(len(names))\n",
    "print(names[5])\n"
   ]
  },
  {
   "cell_type": "code",
   "execution_count": 185,
   "metadata": {},
   "outputs": [
    {
     "name": "stdout",
     "output_type": "stream",
     "text": [
      "<class 'dict'>\n",
      "[0, 4, 7, 7, 23, 24]\n",
      "['elsabeth', 'eyaya', 'enate', ['yemwedsh', 'yemsasalsh', 'yemsasalsh', 'ewedshalehu', 'hulenurilgh'], 'hulu negere']\n"
     ]
    }
   ],
   "source": [
    "names ={\n",
    "    'f_name': ['rahel','rich'],\n",
    "    'age' : [23,24,0,7,4,7],\n",
    "    'gender' : ['women','female'],\n",
    "    'my_name' : ['elsabeth', 'eyaya','enate',['yemwedsh','yemsasalsh','yemsasalsh','ewedshalehu','hulenurilgh'],'hulu negere'],\n",
    "    'l_name' : ['wonde','dfgv']\n",
    "    \n",
    "}\n",
    "\n",
    "print(type(names))\n",
    "\n",
    "print(sorted(names['age']))\n",
    "\n",
    "print(names['my_name'])"
   ]
  },
  {
   "cell_type": "code",
   "execution_count": 235,
   "metadata": {},
   "outputs": [
    {
     "name": "stdout",
     "output_type": "stream",
     "text": [
      "<class 'dict'>\n",
      "f_name\n",
      "age\n",
      "gender\n",
      "my_name\n",
      "l_name\n",
      "old age\n",
      "{'f_name': {'rahel': 'rich', 'richoo': 'rita'}, 'age': {'kid': 'adult'}, 'gender': 'women', 'my_name': 'elsabeth (eyaya)', 'l_name': 'wonde'}\n",
      "{'f_name': {'rahel': 'rich', 'richoo': 'rita'}, 'age': {'kid': 'adult'}, 'gender': 'women', 'my_name': 'elsabeth (eyaya)', 'l_name': 'wonde'}\n",
      "{'f_name': {'rahel': 'rich', 'richoo': 'rita'}, 'age': 'idk', 'gender': 'women', 'my_name': 'elsabeth (eyaya)', 'l_name': 'wonde'}\n"
     ]
    }
   ],
   "source": [
    "names ={\n",
    "    'f_name': {'rahel':'rich',\n",
    "               'richoo':'rita'\n",
    "               },\n",
    "    'age' :{'kid': 'adult'},\n",
    "    'gender' : 'women',\n",
    "    'my_name' : 'elsabeth (eyaya)',\n",
    "    'l_name' : 'wonde',\n",
    "}\n",
    "\n",
    "print(type(names))\n",
    "# print(names['f_name']['richoo'])\n",
    "# print(keys(richoo))\n",
    "\n",
    "# for key in \n",
    "# fname =names['f_name']\n",
    "# print(fname)\n",
    "# print(fname['richoo'])\n",
    "for key, value in names.items():\n",
    "  print(key)\n",
    "def bb(names):\n",
    "  for key, value in names.items():\n",
    "    if key == 'age':\n",
    "      key = 'old age'\n",
    "      print(key) \n",
    "      print(names)   \n",
    "  \n",
    "  return \n",
    "   \n",
    "bb(names)    # print(names\n",
    "# print(names['age']['kid'])\n",
    "print(names)\n",
    "\n",
    "names['age'] ='idk'\n",
    "\n",
    "print(names)\n"
   ]
  },
  {
   "cell_type": "code",
   "execution_count": 251,
   "metadata": {},
   "outputs": [
    {
     "name": "stdout",
     "output_type": "stream",
     "text": [
      "{'f_name': {'rahel': 'rich', 'richoo': 'rita'}, 'age': {'kid': 'adult'}, 'gender': 'women', 'my_name': 'elsabeth (eyaya)', 'a_name': 'wonde'}\n",
      "wonde\n"
     ]
    }
   ],
   "source": [
    "names ={\n",
    "    'f_name': {'rahel':'rich',\n",
    "               'richoo':'rita'\n",
    "               },\n",
    "    'age' :{'kid': 'adult'},\n",
    "    'gender' : 'women',\n",
    "    'my_name' : 'elsabeth (eyaya)',\n",
    "    'l_name' : 'wonde',\n",
    "}\n",
    "\n",
    "# names['f_name']['richoo'] = names['f_name']['rich_ooooooooooo']\n",
    "# del names['f_name']['richoo']\n",
    "\n",
    "names['a_name'] =  names['l_name'] \n",
    "name = names\n",
    "del names['l_name']\n",
    "print(name)\n",
    "print(names['a_name'])"
   ]
  },
  {
   "cell_type": "code",
   "execution_count": 257,
   "metadata": {},
   "outputs": [
    {
     "name": "stdout",
     "output_type": "stream",
     "text": [
      "{'new_key1': 1, 'new_key2': 2, 'new_key3': 3}\n"
     ]
    }
   ],
   "source": [
    "original_dict = {'old_key1': 1, 'old_key2': 2, 'old_key3': 3}\n",
    "\n",
    "# Define a mapping for key updates\n",
    "key_updates = {'old_key1': 'new_key1', 'old_key2': 'new_key2', 'old_key3': 'new_key3'}\n",
    "\n",
    "# Create a new dictionary with updated keys\n",
    "updated_dict = {key_updates.get(old_key, old_key): value for old_key, value in original_dict.items()}\n",
    "\n",
    "print(updated_dict)"
   ]
  },
  {
   "cell_type": "code",
   "execution_count": 5,
   "metadata": {},
   "outputs": [
    {
     "data": {
      "text/plain": [
       "{'html': '1', 'python': '3'}"
      ]
     },
     "execution_count": 5,
     "metadata": {},
     "output_type": "execute_result"
    }
   ],
   "source": [
    "dict ={}\n",
    "size = int(input('how many size do you want your dictionery'))\n",
    "def creativity(size):\n",
    "  for n in  range(size):\n",
    "    keys = input('what is your key of dictionery')\n",
    "    value = input('what is your value of dictionery')\n",
    "    dict[keys] = value\n",
    "  return dict\n",
    "creativity(size)\n"
   ]
  }
 ],
 "metadata": {
  "kernelspec": {
   "display_name": "Python 3",
   "language": "python",
   "name": "python3"
  },
  "language_info": {
   "codemirror_mode": {
    "name": "ipython",
    "version": 3
   },
   "file_extension": ".py",
   "mimetype": "text/x-python",
   "name": "python",
   "nbconvert_exporter": "python",
   "pygments_lexer": "ipython3",
   "version": "3.11.5"
  },
  "vscode": {
   "interpreter": {
    "hash": "aa82987a71ca0339a52998cd22613b0c002bda8349fa32a0cb67ceec3936a2bf"
   }
  }
 },
 "nbformat": 4,
 "nbformat_minor": 2
}
