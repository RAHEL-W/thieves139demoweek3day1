{
 "cells": [
  {
   "cell_type": "markdown",
   "metadata": {},
   "source": [
    "# Object-Oriented-Programming (OOP)"
   ]
  },
  {
   "cell_type": "markdown",
   "metadata": {},
   "source": [
    "## Tasks Today:\n",
    "\n",
    "   \n",
    "\n",
    "1) <b>Creating a Class (Initializing/Declaring)</b> <br>\n",
    "2) <b>Using a Class (Instantiating)</b> <br>\n",
    " &nbsp;&nbsp;&nbsp;&nbsp; a) Creating One Instance <br>\n",
    " &nbsp;&nbsp;&nbsp;&nbsp; b) Creating Multiple Instances <br>\n",
    " &nbsp;&nbsp;&nbsp;&nbsp; c) In-Class Exercise #1 - Create a Class 'Car' and instantiate three different makes of cars <br>\n",
    "3) <b>The \\__init\\__() Method</b> <br>\n",
    " &nbsp;&nbsp;&nbsp;&nbsp; a) The 'self' Attribute <br>\n",
    "4) <b>Class Attributes</b> <br>\n",
    " &nbsp;&nbsp;&nbsp;&nbsp; a) Initializing Attributes <br>\n",
    " &nbsp;&nbsp;&nbsp;&nbsp; b) Setting an Attribute Outside of the \\__init\\__() Method <br>\n",
    " &nbsp;&nbsp;&nbsp;&nbsp; c) Setting Defaults for Attributes <br>\n",
    " &nbsp;&nbsp;&nbsp;&nbsp; d) Accessing Class Attributes <br>\n",
    " &nbsp;&nbsp;&nbsp;&nbsp; e) Changing Class Attributes <br>\n",
    " &nbsp;&nbsp;&nbsp;&nbsp; f) In-Class Exercise #2 - Add a color and wheels attribute to your 'Car' class <br>\n",
    "5) <b>Class Methods</b> <br>\n",
    " &nbsp;&nbsp;&nbsp;&nbsp; a) Creating <br>\n",
    " &nbsp;&nbsp;&nbsp;&nbsp; b) Calling <br>\n",
    " &nbsp;&nbsp;&nbsp;&nbsp; c) Modifying an Attribute's Value Through a Method <br>\n",
    " &nbsp;&nbsp;&nbsp;&nbsp; d) Incrementing an Attribute's Value Through a Method <br>\n",
    " &nbsp;&nbsp;&nbsp;&nbsp; e) In-Class Exercise #3 - Add a method that prints the cars color and wheel number, then call them <br>\n",
    "6) <b>Inheritance</b> <br>\n",
    " &nbsp;&nbsp;&nbsp;&nbsp; a) Syntax for Inheriting from a Parent Class <br>\n",
    " &nbsp;&nbsp;&nbsp;&nbsp; b) The \\__init\\__() Method for a Child Class (super()) <br>\n",
    " &nbsp;&nbsp;&nbsp;&nbsp; c) Defining Attributes and Methods for the Child Class <br>\n",
    " &nbsp;&nbsp;&nbsp;&nbsp; d) Method Overriding <br>\n",
    " &nbsp;&nbsp;&nbsp;&nbsp; e) In-Class Exercise #4 - Create a class 'Ford' that inherits from 'Car' class and initialize it as a Blue Ford Explorer with 4 wheels using the super() method <br>\n",
    "7) <b>Classes as Attributes</b> <br>\n",
    "8) <b>Exercises</b> <br>\n",
    " &nbsp;&nbsp;&nbsp;&nbsp; a) Exercise #1 - Turn the shopping cart program from yesterday into an object-oriented program <br>"
   ]
  },
  {
   "cell_type": "markdown",
   "metadata": {},
   "source": [
    "## Creating a Class (Initializing/Declaring)\n",
    "<p>When creating a class, function, or even a variable you are initializing that object. Initializing and Declaring occur at the same time in Python, whereas in lower level languages you have to declare an object before initializing it. This is the first step in the process of using a class.</p>"
   ]
  },
  {
   "cell_type": "code",
   "execution_count": 27,
   "metadata": {},
   "outputs": [],
   "source": [
    "class Race:\n",
    "    ayes = 2\n",
    "    lag = 'sdfgh'\n",
    "    "
   ]
  },
  {
   "cell_type": "markdown",
   "metadata": {},
   "source": [
    "## Using a Class (Instantiating)\n",
    "<p>The process of creating a class is called <i>Instantiating</i>. Each time you create a variable of that type of class, it is referred to as an <i>Instance</i> of that class. This is the second step in the process of using a class.</p>"
   ]
  },
  {
   "cell_type": "markdown",
   "metadata": {},
   "source": [
    "##### Creating One Instance"
   ]
  },
  {
   "cell_type": "code",
   "execution_count": 53,
   "metadata": {},
   "outputs": [
    {
     "name": "stdout",
     "output_type": "stream",
     "text": [
      "sdfgh\n"
     ]
    }
   ],
   "source": [
    "class Race:\n",
    "    ayes = 2\n",
    "    lag = 'sdfgh'\n",
    "\n",
    "black = Race()\n",
    "\n",
    "    \n",
    "\n",
    "print(black.lag)"
   ]
  },
  {
   "cell_type": "markdown",
   "metadata": {},
   "source": [
    "##### Creating Multiple Instances"
   ]
  },
  {
   "cell_type": "code",
   "execution_count": 54,
   "metadata": {},
   "outputs": [
    {
     "name": "stdout",
     "output_type": "stream",
     "text": [
      "sdfgh\n"
     ]
    }
   ],
   "source": [
    "white = Race()\n",
    "asei = Race()\n",
    "indea = Race() \n",
    "\n",
    "print(asei.lag)"
   ]
  },
  {
   "cell_type": "markdown",
   "metadata": {},
   "source": [
    "##### In-Class Exercise #1 - Create a Class 'Car' and Instantiate three different makes of cars"
   ]
  },
  {
   "cell_type": "code",
   "execution_count": 55,
   "metadata": {},
   "outputs": [],
   "source": [
    "class Car():\n",
    "    tesla = Car()\n",
    "    ford = Car()\n",
    "    nissan = Car() "
   ]
  },
  {
   "cell_type": "markdown",
   "metadata": {},
   "source": [
    "## The \\__init\\__() Method <br>\n",
    "<p>This method is used in almost every created class, and called only once upon the creation of the class instance. This method will initialize all variables needed for the object.</p>"
   ]
  },
  {
   "cell_type": "code",
   "execution_count": 60,
   "metadata": {},
   "outputs": [
    {
     "name": "stdout",
     "output_type": "stream",
     "text": [
      "4\n"
     ]
    }
   ],
   "source": [
    "class Ford ():\n",
    "    wheels = 4\n",
    "    def __init__(self, year, color, engine):\n",
    "       self.year = year \n",
    "       self.color = color\n",
    "       self.engine = engine\n",
    "fusion = Ford('2017', 'white', 'v4')\n",
    "print(fusion.wheels)\n",
    "\n",
    "      "
   ]
  },
  {
   "cell_type": "markdown",
   "metadata": {},
   "source": [
    "##### The 'self' Attribute <br>\n",
    "<p>This attribute is required to keep track of specific instance's attributes. Without the self attribute, the program would not know how to reference or keep track of an instance's attributes.</p>"
   ]
  },
  {
   "cell_type": "code",
   "execution_count": null,
   "metadata": {},
   "outputs": [],
   "source": [
    "# see above"
   ]
  },
  {
   "cell_type": "markdown",
   "metadata": {},
   "source": [
    "## Class Attributes <br>\n",
    "<p>While variables are inside of a class, they are referred to as attributes and not variables. When someone says 'attribute' you know they're speaking about a class. Attributes can be initialized through the init method, or outside of it.</p>"
   ]
  },
  {
   "cell_type": "markdown",
   "metadata": {},
   "source": [
    "##### Initializing Attributes"
   ]
  },
  {
   "cell_type": "code",
   "execution_count": 61,
   "metadata": {},
   "outputs": [
    {
     "name": "stdout",
     "output_type": "stream",
     "text": [
      "4\n"
     ]
    }
   ],
   "source": [
    "# see above\n",
    "print(fusion.wheels)"
   ]
  },
  {
   "cell_type": "markdown",
   "metadata": {},
   "source": [
    "##### Accessing Class Attributes"
   ]
  },
  {
   "cell_type": "code",
   "execution_count": 62,
   "metadata": {
    "scrolled": true
   },
   "outputs": [
    {
     "name": "stdout",
     "output_type": "stream",
     "text": [
      "4\n"
     ]
    }
   ],
   "source": [
    "# See Above\n",
    "print(fusion.wheels)"
   ]
  },
  {
   "cell_type": "markdown",
   "metadata": {},
   "source": [
    "##### Setting Defaults for Attributes"
   ]
  },
  {
   "cell_type": "code",
   "execution_count": 76,
   "metadata": {},
   "outputs": [
    {
     "name": "stdout",
     "output_type": "stream",
     "text": [
      "4\n",
      "6\n"
     ]
    }
   ],
   "source": [
    "\n",
    "class Car():\n",
    "\n",
    "    def __init__(self, year, color, engine,  wheals=4):\n",
    "        self.year = year\n",
    "        self.color = color\n",
    "        self.engine = engine\n",
    "        self.wheals = wheals\n",
    "fusion = Car('2017', 'white', 'v4')\n",
    "tow_truck= Car('2017', 'white', 'v4', 6) \n",
    "\n",
    "print(fusion.wheals)\n",
    "print(tow_truck.wheals)"
   ]
  },
  {
   "attachments": {},
   "cell_type": "markdown",
   "metadata": {},
   "source": [
    "##### Changing Instance Attributes <br>\n",
    "<p>Keep in mind there are global class attributes and then there are attributes only available to each class instance which won't effect other classes.</p>"
   ]
  },
  {
   "cell_type": "code",
   "execution_count": 77,
   "metadata": {},
   "outputs": [
    {
     "name": "stdout",
     "output_type": "stream",
     "text": [
      "white\n",
      "green\n"
     ]
    }
   ],
   "source": [
    "# see above\n",
    "\n",
    "class Car():\n",
    "    \n",
    "    def __init__(self, year, color, engine,):\n",
    "         self.year = year\n",
    "         self.color = color\n",
    "fusion = Car('2017', 'white', 'v4')         \n",
    "print(fusion.color)\n",
    "fusion.color = 'green'\n",
    "print(fusion.color)"
   ]
  },
  {
   "cell_type": "markdown",
   "metadata": {},
   "source": [
    "##### In-Class Exercise #2 - Add a doors and seats attribute to your 'Car' class then print out two different instances with different doors and seats"
   ]
  },
  {
   "cell_type": "code",
   "execution_count": 85,
   "metadata": {},
   "outputs": [
    {
     "name": "stdout",
     "output_type": "stream",
     "text": [
      "7 4\n",
      "5 2\n"
     ]
    }
   ],
   "source": [
    "class  Car():\n",
    "       \n",
    "    \n",
    "        def __init__(self, year, color, engin, Doors= 4, Seats = 7):\n",
    "          \n",
    "          self.year = year\n",
    "          self.color = color\n",
    "          self.engin = engin\n",
    "          self.Doors = Doors\n",
    "          self.Seats = Seats\n",
    "\n",
    "tesla = Car('2023', 'black','xcv',)\n",
    "GMC = Car('2020', 'gray',  'sdrfd', 2, 5)\n",
    "\n",
    "print(tesla.Seats, tesla.Doors)\n",
    "print(GMC.Seats, GMC.Doors)"
   ]
  },
  {
   "cell_type": "markdown",
   "metadata": {},
   "source": [
    "## Class Methods <br>\n",
    "<p>While inside of a class, functions are referred to as 'methods'. If you hear someone mention methods, they're speaking about classes. Methods are essentially functions, but only callable on the instances of a class.</p>"
   ]
  },
  {
   "cell_type": "markdown",
   "metadata": {},
   "source": [
    "##### Creating"
   ]
  },
  {
   "cell_type": "code",
   "execution_count": 88,
   "metadata": {},
   "outputs": [
    {
     "name": "stdout",
     "output_type": "stream",
     "text": [
      "i have2023 year blackvihaicel\n",
      "i have2020 year grayvihaicel\n"
     ]
    }
   ],
   "source": [
    "\n",
    "class Car():\n",
    "\n",
    "    def __init__(self, year, color, engine,  wheals=4):\n",
    "        self.year = year\n",
    "        self.color = color\n",
    "        self.engine = engine\n",
    "        self.wheals = wheals\n",
    "    def info(self):\n",
    "        print(f\"i have{self.year} year {self.color}vihaicel\")   \n",
    "tesla = Car('2023', 'black','xcv')\n",
    "GMC = Car('2020', 'gray',  'sdrfd')\n",
    "\n",
    "\n",
    "tesla.info()\n",
    "GMC.info()"
   ]
  },
  {
   "cell_type": "markdown",
   "metadata": {},
   "source": [
    "##### Calling"
   ]
  },
  {
   "cell_type": "code",
   "execution_count": null,
   "metadata": {},
   "outputs": [],
   "source": [
    "# See Above\n",
    "tesla.info()\n",
    "GMC.info()"
   ]
  },
  {
   "cell_type": "markdown",
   "metadata": {},
   "source": [
    "##### Modifying an Attribute's Value Through a Method"
   ]
  },
  {
   "cell_type": "code",
   "execution_count": 92,
   "metadata": {},
   "outputs": [
    {
     "name": "stdout",
     "output_type": "stream",
     "text": [
      "i have2023 year blackvihaicel\n",
      "i have2020 year grayvihaicel\n",
      "you  car color  to  green\n"
     ]
    },
    {
     "data": {
      "text/plain": [
       "'green'"
      ]
     },
     "execution_count": 92,
     "metadata": {},
     "output_type": "execute_result"
    }
   ],
   "source": [
    "# see above\n",
    "\n",
    "\n",
    "class Car():\n",
    "\n",
    "    def __init__(self, year, color, engine,  wheals=4):\n",
    "        self.year = year\n",
    "        self.color = color\n",
    "        self.engine = engine\n",
    "        self.wheals = wheals\n",
    "    def info(self):\n",
    "        print(f\"i have{self.year} year {self.color}vihaicel\")  \n",
    "    def paint_job (self, new_color):\n",
    "        self.color = new_color \n",
    "        print(f\"you  car color  to  {new_color}\")    \n",
    "tesla = Car('2023', 'black','xcv')\n",
    "GMC = Car('2020', 'gray',  'sdrfd')\n",
    "\n",
    "\n",
    "tesla.info()\n",
    "GMC.info()\n",
    "tesla.paint_job('green')\n",
    "tesla.color"
   ]
  },
  {
   "cell_type": "markdown",
   "metadata": {},
   "source": [
    "##### Incrementing an Attribute's Value Through a Method"
   ]
  },
  {
   "cell_type": "code",
   "execution_count": 94,
   "metadata": {},
   "outputs": [
    {
     "name": "stdout",
     "output_type": "stream",
     "text": [
      "i have2023 year blackvihaicel\n",
      "i have2020 year grayvihaicel\n",
      "you  car color  to  green\n"
     ]
    },
    {
     "data": {
      "text/plain": [
       "6"
      ]
     },
     "execution_count": 94,
     "metadata": {},
     "output_type": "execute_result"
    }
   ],
   "source": [
    "# see above\n",
    "class Car():\n",
    "\n",
    "    def __init__(self, year, color, engine,  wheals=4):\n",
    "        self.year = year\n",
    "        self.color = color\n",
    "        self.engine = engine\n",
    "        self.wheals = wheals\n",
    "    def info(self):\n",
    "        print(f\"i have{self.year} year {self.color}vihaicel\")  \n",
    "    def paint_job (self, new_color):\n",
    "        self.color = new_color \n",
    "        print(f\"you  car color  to  {new_color}\")\n",
    "    def get_wide(self):\n",
    "      self.wheals += 2      \n",
    "tesla = Car('2023', 'black','xcv')\n",
    "GMC = Car('2020', 'gray',  'sdrfd')\n",
    "\n",
    "\n",
    "tesla.info()\n",
    "GMC.info()\n",
    "tesla.paint_job('green')\n",
    "tesla.get_wide()\n",
    "tesla.color\n",
    "tesla.wheals\n"
   ]
  },
  {
   "cell_type": "markdown",
   "metadata": {},
   "source": [
    "## Inheritance <br>\n",
    "<p>You can create a child-parent relationship between two classes by using inheritance. What this allows you to do is have overriding methods, but also inherit traits from the parent class. Think of it as an actual parent and child, the child will inherit the parent's genes, as will the classes in OOP</p>"
   ]
  },
  {
   "cell_type": "markdown",
   "metadata": {},
   "source": [
    "##### Syntax for Inheriting from a Parent Class"
   ]
  },
  {
   "cell_type": "code",
   "execution_count": 21,
   "metadata": {},
   "outputs": [
    {
     "ename": "AttributeError",
     "evalue": "'User' object has no attribute 'info'",
     "output_type": "error",
     "traceback": [
      "\u001b[0;31m---------------------------------------------------------------------------\u001b[0m",
      "\u001b[0;31mAttributeError\u001b[0m                            Traceback (most recent call last)",
      "Cell \u001b[0;32mIn[21], line 14\u001b[0m\n\u001b[1;32m     12\u001b[0m     admin \u001b[38;5;241m=\u001b[39m \u001b[38;5;28;01mTrue\u001b[39;00m            \n\u001b[1;32m     13\u001b[0m ch \u001b[38;5;241m=\u001b[39m User(\u001b[38;5;124m'\u001b[39m\u001b[38;5;124mch\u001b[39m\u001b[38;5;124m'\u001b[39m, \u001b[38;5;124m'\u001b[39m\u001b[38;5;124mpa\u001b[39m\u001b[38;5;124m'\u001b[39m, \u001b[38;5;241m65\u001b[39m)            \n\u001b[0;32m---> 14\u001b[0m ch\u001b[38;5;241m.\u001b[39minfo()\n\u001b[1;32m     15\u001b[0m ch\u001b[38;5;241m.\u001b[39mpost(\u001b[38;5;124m'\u001b[39m\u001b[38;5;124mdfghjkl\u001b[39m\u001b[38;5;124m'\u001b[39m)\n",
      "\u001b[0;31mAttributeError\u001b[0m: 'User' object has no attribute 'info'"
     ]
    }
   ],
   "source": []
  },
  {
   "cell_type": "markdown",
   "metadata": {},
   "source": [
    "##### The \\__init\\__() Method for a Child Class - super()"
   ]
  },
  {
   "cell_type": "code",
   "execution_count": null,
   "metadata": {
    "scrolled": true
   },
   "outputs": [],
   "source": [
    "# see above"
   ]
  },
  {
   "cell_type": "markdown",
   "metadata": {},
   "source": [
    "##### Defining Attributes and Methods for the Child Class"
   ]
  },
  {
   "cell_type": "code",
   "execution_count": 3,
   "metadata": {},
   "outputs": [
    {
     "name": "stdout",
     "output_type": "stream",
     "text": [
      "dfgh\n"
     ]
    }
   ],
   "source": [
    "# See Above\n",
    "name = input('ehhjhj')\n",
    "print(name)"
   ]
  },
  {
   "cell_type": "markdown",
   "metadata": {},
   "source": [
    "# Exercises"
   ]
  },
  {
   "cell_type": "markdown",
   "metadata": {},
   "source": [
    "### Exercise 1 - Turn the shopping cart program from yesterday into an object-oriented program\n",
    "\n",
    "The comments in the cell below are there as a guide for thinking about the problem. However, if you feel a different way is best for you and your own thought process, please do what feels best for you by all means."
   ]
  },
  {
   "cell_type": "code",
   "execution_count": 35,
   "metadata": {},
   "outputs": [
    {
     "name": "stdout",
     "output_type": "stream",
     "text": [
      "Total cost of items in the shopping cart: $ 4.0\n"
     ]
    }
   ],
   "source": [
    "# Create a class called cart that retains items and has methods to add, remove, and show\n",
    "\n",
    "class Product:\n",
    "\n",
    "   \n",
    "    def __init__(self, name, price):\n",
    "        self.name = name\n",
    "        self.price = price\n",
    "\n",
    "class Product:\n",
    "    def __init__(self, name, price):\n",
    "        self.name = name\n",
    "        self.price = price\n",
    "\n",
    "class ShoppingCart:\n",
    "    def __init__(self):\n",
    "        self.items = []\n",
    "\n",
    "    def add_item(self, product, quantity):\n",
    "        self.items.append({\"product\": product, \"quantity\": quantity})\n",
    "\n",
    "    def remove_item(self, product_name):\n",
    "        for item in self.items:\n",
    "            if item[\"product\"].name == product_name:\n",
    "                self.items.remove(item)\n",
    "                print(f\"{product_name} removed from the cart.\")\n",
    "                return\n",
    "        print(f\"{product_name} not found in the cart.\")\n",
    "\n",
    "    def show_cart(self):\n",
    "        print(\"Shopping Cart:\")\n",
    "        for item in self.items:\n",
    "            print(f\"{item['product'].name} - Quantity: {item['quantity']}\")\n",
    "\n",
    "# Example usage:\n",
    "cart = ShoppingCart()\n",
    "\n",
    "while True:\n",
    "    action = input(\"Enter 'add', 'remove', 'show', or 'quit': \")\n",
    "\n",
    "    if action == 'quit':\n",
    "        break\n",
    "    elif action == 'add':\n",
    "        product_name = input(\"Enter product name: \")\n",
    "        product_price = float(input(\"Enter product price: \"))\n",
    "        quantity = int(input(\"Enter quantity: \"))\n",
    "        product = Product(product_name, product_price)\n",
    "        cart.add_item(product, quantity)\n",
    "    elif action == 'remove':\n",
    "        product_name = input(\"Enter product name to remove: \")\n",
    "        cart.remove_item(product_name)\n",
    "    elif action == 'show':\n",
    "        cart.show_cart()\n",
    "    else:\n",
    "        print(\"Invalid action. Please enter 'add', 'remove', 'show', or 'quit'.\")\n",
    "    "
   ]
  },
  {
   "cell_type": "markdown",
   "metadata": {},
   "source": [
    "### Exercise 2 - Write a Python class which has two methods get_String and print_String. get_String accept a string from the user and print_String print the string in upper case"
   ]
  },
  {
   "cell_type": "code",
   "execution_count": 33,
   "metadata": {},
   "outputs": [
    {
     "ename": "TypeError",
     "evalue": "Info.__init__() missing 4 required positional arguments: 'name', 'email', 'password', and 'age'",
     "output_type": "error",
     "traceback": [
      "\u001b[0;31m---------------------------------------------------------------------------\u001b[0m",
      "\u001b[0;31mTypeError\u001b[0m                                 Traceback (most recent call last)",
      "Cell \u001b[0;32mIn[33], line 17\u001b[0m\n\u001b[1;32m     15\u001b[0m       \u001b[38;5;28mprint\u001b[39m(password\u001b[38;5;241m.\u001b[39mupper())\n\u001b[1;32m     16\u001b[0m       \u001b[38;5;28mprint\u001b[39m(age\u001b[38;5;241m.\u001b[39mupper())\n\u001b[0;32m---> 17\u001b[0m print_string \u001b[38;5;241m=\u001b[39m Info()\n",
      "\u001b[0;31mTypeError\u001b[0m: Info.__init__() missing 4 required positional arguments: 'name', 'email', 'password', and 'age'"
     ]
    }
   ],
   "source": [
    "class Info ():\n",
    "    def __init__ (self, name, email, password, age ):\n",
    "        self.name = name\n",
    "        self.email = email\n",
    "        self.password = password\n",
    "        self.age = age \n",
    "    def get_string (self):\n",
    "        name = input('what\\'s your name')    \n",
    "        email = input('what\\'s your email')  \n",
    "        password = input('what\\'s your password')  \n",
    "        age  = input('what\\'s your age ') \n",
    "    def print_string (self,name, email, password, age ): \n",
    "      print(name.upper())\n",
    "      print(email.upper())\n",
    "      print(password.upper())\n",
    "      print(age.upper())\n",
    "print_string = Info() \n",
    "# Info(print_string)    \n"
   ]
  }
 ],
 "metadata": {
  "kernelspec": {
   "display_name": "Python 3",
   "language": "python",
   "name": "python3"
  },
  "language_info": {
   "codemirror_mode": {
    "name": "ipython",
    "version": 3
   },
   "file_extension": ".py",
   "mimetype": "text/x-python",
   "name": "python",
   "nbconvert_exporter": "python",
   "pygments_lexer": "ipython3",
   "version": "3.11.5"
  },
  "vscode": {
   "interpreter": {
    "hash": "aa82987a71ca0339a52998cd22613b0c002bda8349fa32a0cb67ceec3936a2bf"
   }
  }
 },
 "nbformat": 4,
 "nbformat_minor": 2
}
